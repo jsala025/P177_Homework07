{
 "cells": [
  {
   "cell_type": "markdown",
   "metadata": {},
   "source": [
    "# Homework 7: Markov Chain Monte Carlo\n",
    "\n",
    "Physics 177, Spring 2017 (Prof. Tanedo)  \n",
    "Due: Wednesday, May 31    \n",
    "\n",
    "This homework will be updated over the weekend with specific goals if people complete the Extra Credit below.\n",
    "\n",
    "*Joshua Salazar*"
   ]
  },
  {
   "cell_type": "markdown",
   "metadata": {
    "collapsed": true
   },
   "source": [
    "For this homework, please complete all of the example code that you were tasked with exploring during Professor Hai-Bo Yu's lecture on Thursday, May 25."
   ]
  },
  {
   "cell_type": "markdown",
   "metadata": {},
   "source": [
    "* **Basic Idean of Markov Chain Monte Carlo**  \n",
    "\n",
    "set T = T0 * E^(-t/tau). where initially, T is large such that kB* T >> (Ei -Ej). Then use a sort of piecewise probability distribution to calculate each step for each randomly chosen particle.  \n",
    "\n",
    "* **Driving Salesman problem in textbook**  \n",
    "\n",
    "This is a minimization problem where we are trying to minimize traveling distance given a number of straight line trajectories\n",
    "D = Sum(r_i+1 - r_i) where sum is from i=0 to N-1 (N number of steps).\n",
    "We need to consider set of moves. if move shortens path then we accept it. if the move does not shorten path, then assign that\n",
    "move a probablity. P = 1 for move that shorten distance. P = e^(-beta*(Dj -Di)) for move that increase distance.\n"
   ]
  },
  {
   "cell_type": "code",
   "execution_count": 1,
   "metadata": {
    "collapsed": false,
    "scrolled": true
   },
   "outputs": [
    {
     "data": {
      "application/javascript": [
       "require.undef(\"nbextensions/vpython_libraries/glow.min\");"
      ],
      "text/plain": [
       "<IPython.core.display.Javascript object>"
      ]
     },
     "metadata": {},
     "output_type": "display_data"
    },
    {
     "data": {
      "application/javascript": [
       "require.undef(\"nbextensions/vpython_libraries/glowcomm\");"
      ],
      "text/plain": [
       "<IPython.core.display.Javascript object>"
      ]
     },
     "metadata": {},
     "output_type": "display_data"
    },
    {
     "data": {
      "application/javascript": [
       "require.undef(\"nbextensions/vpython_libraries/jquery-ui.custom.min\");"
      ],
      "text/plain": [
       "<IPython.core.display.Javascript object>"
      ]
     },
     "metadata": {},
     "output_type": "display_data"
    },
    {
     "data": {
      "application/javascript": [
       "require([\"nbextensions/vpython_libraries/glow.min\"], function(){console.log(\"GLOW LOADED\");})"
      ],
      "text/plain": [
       "<IPython.core.display.Javascript object>"
      ]
     },
     "metadata": {},
     "output_type": "display_data"
    },
    {
     "data": {
      "application/javascript": [
       "require([\"nbextensions/vpython_libraries/glowcomm\"], function(){console.log(\"GLOWCOMM LOADED\");})"
      ],
      "text/plain": [
       "<IPython.core.display.Javascript object>"
      ]
     },
     "metadata": {},
     "output_type": "display_data"
    },
    {
     "data": {
      "application/javascript": [
       "require([\"nbextensions/vpython_libraries/jquery-ui.custom.min\"], function(){console.log(\"JQUERY LOADED\");})"
      ],
      "text/plain": [
       "<IPython.core.display.Javascript object>"
      ]
     },
     "metadata": {},
     "output_type": "display_data"
    },
    {
     "data": {
      "text/html": [
       "<div id=\"glowscript\" class=\"glowscript\"></div>"
      ],
      "text/plain": [
       "<IPython.core.display.HTML object>"
      ]
     },
     "metadata": {},
     "output_type": "display_data"
    },
    {
     "data": {
      "application/javascript": [
       "window.__context = { glowscript_container: $(\"#glowscript\").removeAttr(\"id\")}"
      ],
      "text/plain": [
       "<IPython.core.display.Javascript object>"
      ]
     },
     "metadata": {},
     "output_type": "display_data"
    }
   ],
   "source": [
    "# Code from Computational Physics by Mark Newman on pg 494\n",
    "# The code was slightly modified to account for the jupyter Vpython version\n",
    "from math import sqrt,exp\n",
    "from numpy import empty\n",
    "from random import random,randrange\n",
    "from vpython import sphere,curve,display,vector\n",
    "\n",
    "N = 25\n",
    "R = 0.02\n",
    "Tmax = 10.0\n",
    "Tmin = 1e-3\n",
    "tau = 1e4\n",
    "\n",
    "# Function to calculate the magnitude of a vector\n",
    "def mag(x):\n",
    "    return sqrt(x[0]**2+x[1]**2)\n",
    "\n",
    "# Function to calculate the total length of the tour\n",
    "def distance():\n",
    "    s = 0.0\n",
    "    for i in range(N):\n",
    "        s += mag(r[i+1]-r[i])\n",
    "    return s\n",
    "\n",
    "# Choose N city locations and calculate the initial distance\n",
    "r = empty([N+1,2],float)\n",
    "for i in range(N):\n",
    "    r[i,0] = random()\n",
    "    r[i,1] = random()\n",
    "r[N] = r[0]\n",
    "D = distance()\n",
    "\n",
    "rnotnp = []\n",
    "for i in range(len(r)):\n",
    "    rnotnp.append(vector(r[i,0],r[i,1],0))\n",
    "\n",
    "# Set up the graphics\n",
    "display(center=[0.5,0.5])\n",
    "for i in range(N):\n",
    "    sphere(pos=vector(r[i,0],r[i,1],0),radius=R)\n",
    "l = curve(pos= rnotnp,radius=R/2)\n",
    "\n",
    "# Main loop\n",
    "t = 0\n",
    "T = Tmax\n",
    "while T>Tmin:\n",
    "\n",
    "    # Cooling\n",
    "    t += 1\n",
    "    T = Tmax*exp(-t/tau)\n",
    "\n",
    "    # Update the visualization every 100 moves\n",
    "    if t%100==0:\n",
    "        l.splice(0,len(r),rnotnp)\n",
    "\n",
    "    # Choose two cities to swap and make sure they are distinct\n",
    "    i,j = randrange(1,N),randrange(1,N)\n",
    "    while i==j:\n",
    "        i,j = randrange(1,N),randrange(1,N)\n",
    "\n",
    "    # Swap them and calculate the change in distance\n",
    "    oldD = D\n",
    "    r[i,0],r[j,0] = r[j,0],r[i,0]\n",
    "    r[i,1],r[j,1] = r[j,1],r[i,1]\n",
    "    D = distance()\n",
    "    deltaD = D - oldD\n",
    "\n",
    "    # If the move is rejected, swap them back again\n",
    "    if random()>exp(-deltaD/T):\n",
    "        r[i,0],r[j,0] = r[j,0],r[i,0]\n",
    "        r[i,1],r[j,1] = r[j,1],r[i,1]\n",
    "        D = oldD\n",
    "        \n",
    "    rnotnp = []\n",
    "    for i in range(len(r)):\n",
    "        rnotnp.append(vector(r[i,0],r[i,1],0))"
   ]
  },
  {
   "cell_type": "markdown",
   "metadata": {},
   "source": [
    "## Extra credit\n",
    "\n",
    "** This extra credit is available to the first few to do this, due Saturday May 27 **\n",
    "\n",
    "For extra credit, enumerate the exercises required for this homework. In other words: fill in this problem set with specific questions.\n",
    "\n",
    "Assuming that you have forked the Homework 7 repository, upload the problem set (with no solutions yet) to your GitHub and initiate a **pull request**. This will send a notice to Prof. Tanedo to update the Homework 7 master branch for everyone. \n",
    "\n",
    "After you have done this, you may fill in the solutions to your problem set as usual. "
   ]
  }
 ],
 "metadata": {
  "kernelspec": {
   "display_name": "VPython",
   "language": "python",
   "name": "vpython"
  },
  "language_info": {
   "codemirror_mode": {
    "name": "ipython",
    "version": 3
   },
   "file_extension": ".py",
   "mimetype": "text/x-python",
   "name": "python",
   "nbconvert_exporter": "python",
   "pygments_lexer": "ipython3",
   "version": "3.6.0"
  }
 },
 "nbformat": 4,
 "nbformat_minor": 2
}
