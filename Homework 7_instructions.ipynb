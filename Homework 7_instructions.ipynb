{
 "cells": [
  {
   "cell_type": "markdown",
   "metadata": {},
   "source": [
    "# Homework 7: Markov Chain Monte Carlo\n",
    "\n",
    "Physics 177, Spring 2017 (Prof. Tanedo)  \n",
    "Due: Wednesday, May 31    \n",
    "\n",
    "This homework will be updated over the weekend with specific goals if people complete the Extra Credit below.\n",
    "\n",
    "*Your Name*"
   ]
  },
  {
   "cell_type": "markdown",
   "metadata": {
    "collapsed": true
   },
   "source": [
    "For this homework, please complete all of the example code that you were tasked with exploring during Professor Hai-Bo Yu's lecture on Thursday, May 25."
   ]
  },
  {
   "cell_type": "markdown",
   "metadata": {},
   "source": [
    "## Extra credit\n",
    "\n",
    "** This extra credit is available to the first few to do this, due Saturday May 27 **\n",
    "\n",
    "For extra credit, enumerate the exercises required for this homework. In other words: fill in this problem set with specific questions.\n",
    "\n",
    "Assuming that you have forked the Homework 7 repository, upload the problem set (with no solutions yet) to your GitHub and initiate a **pull request**. This will send a notice to Prof. Tanedo to update the Homework 7 master branch for everyone. \n",
    "\n",
    "After you have done this, you may fill in the solutions to your problem set as usual. "
   ]
  },
  {
   "cell_type": "code",
   "execution_count": null,
   "metadata": {
    "collapsed": true
   },
   "outputs": [],
   "source": []
  }
 ],
 "metadata": {
  "kernelspec": {
   "display_name": "Python 3",
   "language": "python",
   "name": "python3"
  },
  "language_info": {
   "codemirror_mode": {
    "name": "ipython",
    "version": 3
   },
   "file_extension": ".py",
   "mimetype": "text/x-python",
   "name": "python",
   "nbconvert_exporter": "python",
   "pygments_lexer": "ipython3",
   "version": "3.4.3"
  }
 },
 "nbformat": 4,
 "nbformat_minor": 2
}
